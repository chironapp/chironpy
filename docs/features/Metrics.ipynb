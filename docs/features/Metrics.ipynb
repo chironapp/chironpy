{
  "cells": [
    {
      "cell_type": "markdown",
      "metadata": {},
      "source": [
        "When you import chironpy with `import chironpy` all pandas data frames and series have a `chironpy` accessor available that allows you to do things like:\n",
        "```python\n",
        "df.chironpy.mean_max(\"column name\")\n",
        "```\n",
        "\n",
        "...or\n",
        "\n",
        "```python\n",
        "df[\"power\"].chironpy.mean_max()\n",
        "```\n",
        "\n",
        "See below for more examples.\n",
        "The chiron accessor will raise an `AttributeError` when the data frame or series content is not valid.\n",
        "\n",
        "Please note that the chiron accessor for data frames and series are *similar* but not *identical*.\n",
        "\n",
        "Most methods on the chiron accessor are also available for usage outside data frames."
      ]
    },
    {
      "cell_type": "markdown",
      "metadata": {},
      "source": [
        "## Mean max"
      ]
    },
    {
      "cell_type": "code",
      "execution_count": 1,
      "metadata": {},
      "outputs": [
        {
          "ename": "ModuleNotFoundError",
          "evalue": "No module named 'chironpy'",
          "output_type": "error",
          "traceback": [
            "\u001b[31m---------------------------------------------------------------------------\u001b[39m",
            "\u001b[31mModuleNotFoundError\u001b[39m                       Traceback (most recent call last)",
            "\u001b[36mCell\u001b[39m\u001b[36m \u001b[39m\u001b[32mIn[1]\u001b[39m\u001b[32m, line 1\u001b[39m\n\u001b[32m----> \u001b[39m\u001b[32m1\u001b[39m \u001b[38;5;28;01mimport\u001b[39;00m \u001b[34;01mchironpy\u001b[39;00m\n\u001b[32m      3\u001b[39m example = chironpy.examples(path=\u001b[33m\"\u001b[39m\u001b[33m4078723797.fit\u001b[39m\u001b[33m\"\u001b[39m)\n\u001b[32m      4\u001b[39m data = chironpy.read_fit(example.path)\n",
            "\u001b[31mModuleNotFoundError\u001b[39m: No module named 'chironpy'"
          ]
        }
      ],
      "source": [
        "import chironpy\n",
        "\n",
        "example = chironpy.examples(path=\"4078723797.fit\")\n",
        "data = chironpy.read_fit(example.path)\n",
        "\n",
        "mmp = data[\"power\"].chironpy.mean_max()\n",
        "mmp"
      ]
    },
    {
      "cell_type": "markdown",
      "metadata": {},
      "source": [
        "Or for multiple columns at once:"
      ]
    },
    {
      "cell_type": "code",
      "execution_count": null,
      "metadata": {
        "scrolled": false
      },
      "outputs": [],
      "source": [
        "import chironpy\n",
        "\n",
        "example = chironpy.examples(path=\"4078723797.fit\")\n",
        "data = chironpy.read_fit(example.path)\n",
        "\n",
        "mean_max = data.chironpy.mean_max([\"power\", \"heartrate\"])\n",
        "mean_max"
      ]
    },
    {
      "cell_type": "markdown",
      "metadata": {},
      "source": [
        "The `mean_max()` methods accept a `monotic` boolean argument that can be used to force a monotonically decreasing mean max curve. The default is `False`."
      ]
    },
    {
      "cell_type": "code",
      "execution_count": null,
      "metadata": {},
      "outputs": [],
      "source": [
        "import chironpy\n",
        "\n",
        "example = chironpy.examples(path=\"4078723797.fit\")\n",
        "data = chironpy.read_fit(example.path)\n",
        "\n",
        "mean_max = data.chironpy.mean_max([\"power\", \"heartrate\"], monotonic=True)"
      ]
    },
    {
      "cell_type": "markdown",
      "metadata": {},
      "source": [
        "The `mean_max()` function is also available as `chironpy.metrics.core.mean_max()`."
      ]
    },
    {
      "cell_type": "markdown",
      "metadata": {},
      "source": [
        "## Timedelta index"
      ]
    },
    {
      "cell_type": "markdown",
      "metadata": {},
      "source": [
        "The data frames returned by the `read_*()` functions have a [pandas.DatetimeIndex](https://pandas.pydata.org/pandas-docs/stable/reference/api/pandas.DatetimeIndex.html) by default.\n",
        "Sometimes it is usefull to have a relative [pandas.TimedeltaIndex](https://pandas.pydata.org/pandas-docs/stable/reference/api/pandas.TimedeltaIndex.html):"
      ]
    },
    {
      "cell_type": "code",
      "execution_count": null,
      "metadata": {},
      "outputs": [],
      "source": [
        "import chironpy\n",
        "\n",
        "example = chironpy.examples(path=\"4078723797.fit\")\n",
        "activity = chironpy.read_fit(example.path)[[\"power\", \"heartrate\"]]\n",
        "\n",
        "activity = activity.chironpy.to_timedelta_index()\n",
        "activity.head()"
      ]
    },
    {
      "cell_type": "markdown",
      "metadata": {},
      "source": [
        "Then you can do things like slice for the first 10 seconds of an activity:"
      ]
    },
    {
      "cell_type": "code",
      "execution_count": null,
      "metadata": {
        "scrolled": false
      },
      "outputs": [],
      "source": [
        "activity[:\"00:00:10\"]"
      ]
    },
    {
      "cell_type": "markdown",
      "metadata": {},
      "source": [
        "The `chironpy.to_timedelta_index()` method is available on both data frames and series."
      ]
    },
    {
      "cell_type": "markdown",
      "metadata": {},
      "source": [
        "## Training zones\n",
        "\n",
        "Working with training zones is easy in chironpy. To add a column with the heart rate zone label to the data frame:"
      ]
    },
    {
      "cell_type": "code",
      "execution_count": null,
      "metadata": {
        "scrolled": true
      },
      "outputs": [],
      "source": [
        "import chironpy\n",
        "\n",
        "example = chironpy.examples(path=\"4078723797.fit\")\n",
        "activity = chironpy.read_fit(example.path)[[\"power\", \"heartrate\"]]\n",
        "\n",
        "activity[\"heartrate_zone\"] = activity[\"heartrate\"].chironpy.calculate_zones(\n",
        "    bins=[0, 100, 140, 160, 999],\n",
        "    labels=[\"rest\", \"D1\", \"D2\", \"D3\"])\n",
        "activity[\"heartrate_zone\"].head()"
      ]
    },
    {
      "cell_type": "markdown",
      "metadata": {},
      "source": [
        "...where the `bins` argument contains the left and right bounds for each training zone and the `labels` argument the zone labels."
      ]
    },
    {
      "cell_type": "markdown",
      "metadata": {},
      "source": [
        "To calculate the time in zone:"
      ]
    },
    {
      "cell_type": "code",
      "execution_count": null,
      "metadata": {},
      "outputs": [],
      "source": [
        "import chironpy\n",
        "\n",
        "example = chironpy.examples(path=\"4078723797.fit\")\n",
        "activity = chironpy.read_fit(example.path)[[\"power\", \"heartrate\"]]\n",
        "\n",
        "time_in_zone = activity[\"power\"].chironpy.time_in_zone(\n",
        "    bins=[-9999, 150, 230, 320, 9999],\n",
        "    labels=[\"rest\", \"D1\", \"D2\", \"D3\"])\n",
        "time_in_zone"
      ]
    }
  ],
  "metadata": {
    "kernelspec": {
      "display_name": "venv",
      "language": "python",
      "name": "python3"
    },
    "language_info": {
      "codemirror_mode": {
        "name": "ipython",
        "version": 3
      },
      "file_extension": ".py",
      "mimetype": "text/x-python",
      "name": "python",
      "nbconvert_exporter": "python",
      "pygments_lexer": "ipython3",
      "version": "3.11.12"
    }
  },
  "nbformat": 4,
  "nbformat_minor": 4
}
